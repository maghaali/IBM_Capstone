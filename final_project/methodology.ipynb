{
 "cells": [
  {
   "cell_type": "markdown",
   "metadata": {},
   "source": [
    "# Final project of the __*IBM Data Science Professional Certificate*__"
   ]
  },
  {
   "cell_type": "markdown",
   "metadata": {},
   "source": [
    "##### __Title__: *City guide of Vancouver, BC, Canada*\n",
    "##### __Description__: *The best hotels, restaurants and urban places in \"Vancouver, BC, Canada\" that are close to the public transportation system, such as buses or subways, to help tourists have a better and cheaper experience.*\n",
    "##### __Steps__:\n",
    "* ##### Sign up for Foursquare developer account, to be able to use Foursquare's API\n",
    "* ##### Retrieve information of urban places, hotels, restaurants, bus stops and metro stations with sequentially names as urban_jo, hotel_jo, rest_jo, bus_jo, metro_jo (Note that they are json files)\n",
    "* ##### Based on their id value retrieve rating of places and filter to have best ones (over 7)\n",
    "* ##### Cleansing data\n",
    "* ##### Retrieve Latitude, Longitude, user rate, name, type of each title and put them into pandas DataFrame with sequentially names as urban_df, hotel_df, rest_df, bus_df, metro_df\n",
    "* ##### Last step is visualizing our data on map with Folium Library\n",
    "\n",
    "##### __Question__: *How it can help tourist?*\n",
    "* ##### This report will create an object of best hotels, restaurants, urban places and available metro and bus stations on map with exact location so tourist can make a good plan for his/her travel to Vancouver which plac he/she want to stay at and diversity of hugh rank urban places to go and visit them"
   ]
  },
  {
   "cell_type": "markdown",
   "metadata": {},
   "source": [
    "##### __Reporter's github__:  *https://github.com/spacelover92*"
   ]
  }
 ],
 "metadata": {
  "kernelspec": {
   "display_name": "Python",
   "language": "python",
   "name": "conda-env-python-py"
  },
  "language_info": {
   "codemirror_mode": {
    "name": "ipython",
    "version": 3
   },
   "file_extension": ".py",
   "mimetype": "text/x-python",
   "name": "python",
   "nbconvert_exporter": "python",
   "pygments_lexer": "ipython3",
   "version": "3.6.11"
  }
 },
 "nbformat": 4,
 "nbformat_minor": 4
}
